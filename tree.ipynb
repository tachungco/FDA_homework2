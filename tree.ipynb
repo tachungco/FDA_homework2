{
 "cells": [
  {
   "cell_type": "markdown",
   "metadata": {},
   "source": [
    "# Fundamentals of Data Analytics HW2\n",
    "by 交管108_張仲宇_H54046070\n",
    "\n",
    "---\n",
    "## 1. Question\n",
    "誰會被升等商務艙？\n",
    "\n",
    "---\n",
    "\n",
    "## 2. Attributes/Features\n",
    "旅客屬性：\n",
    "1. 是不是很有錢\n",
    "2. 是不是航空公司會員\n",
    "3. 是不是一個人旅行\n",
    "4. 是不是太晚報到\n",
    "\n",
    "[本屬性設計參考](https://www.funtime.com.tw/blog/funtime/%E6%90%AD%E6%A9%9F%E5%BF%85%E7%9C%8B-%E5%85%8D%E8%B2%BB%E5%8D%87%E7%AD%89%E5%95%86%E5%8B%99%E8%89%99%E5%B0%8F%E6%8A%80%E5%B7%A7)\n",
    "\n",
    "---\n",
    "## 3. Designed Rules\n",
    "以下為樹狀圖：\n",
    "\n",
    "[連結](https://imgur.com/MgBkJ5r)\n",
    "<img src=\"Diagram.jpg\">\n",
    "---\n",
    "## 4. Generate Data"
   ]
  },
  {
   "cell_type": "code",
   "execution_count": 1,
   "metadata": {},
   "outputs": [],
   "source": [
    "import pandas as pd"
   ]
  },
  {
   "cell_type": "code",
   "execution_count": 2,
   "metadata": {},
   "outputs": [
    {
     "data": {
      "text/html": [
       "<div>\n",
       "<style scoped>\n",
       "    .dataframe tbody tr th:only-of-type {\n",
       "        vertical-align: middle;\n",
       "    }\n",
       "\n",
       "    .dataframe tbody tr th {\n",
       "        vertical-align: top;\n",
       "    }\n",
       "\n",
       "    .dataframe thead th {\n",
       "        text-align: right;\n",
       "    }\n",
       "</style>\n",
       "<table border=\"1\" class=\"dataframe\">\n",
       "  <thead>\n",
       "    <tr style=\"text-align: right;\">\n",
       "      <th></th>\n",
       "      <th>Rich</th>\n",
       "      <th>Member</th>\n",
       "      <th>Alone</th>\n",
       "      <th>Late</th>\n",
       "      <th>BusinessClass</th>\n",
       "    </tr>\n",
       "  </thead>\n",
       "  <tbody>\n",
       "    <tr>\n",
       "      <th>0</th>\n",
       "      <td>1</td>\n",
       "      <td>1</td>\n",
       "      <td>0</td>\n",
       "      <td>0</td>\n",
       "      <td>1</td>\n",
       "    </tr>\n",
       "    <tr>\n",
       "      <th>1</th>\n",
       "      <td>0</td>\n",
       "      <td>0</td>\n",
       "      <td>0</td>\n",
       "      <td>0</td>\n",
       "      <td>0</td>\n",
       "    </tr>\n",
       "    <tr>\n",
       "      <th>2</th>\n",
       "      <td>0</td>\n",
       "      <td>0</td>\n",
       "      <td>0</td>\n",
       "      <td>0</td>\n",
       "      <td>0</td>\n",
       "    </tr>\n",
       "    <tr>\n",
       "      <th>3</th>\n",
       "      <td>0</td>\n",
       "      <td>0</td>\n",
       "      <td>0</td>\n",
       "      <td>0</td>\n",
       "      <td>0</td>\n",
       "    </tr>\n",
       "    <tr>\n",
       "      <th>4</th>\n",
       "      <td>1</td>\n",
       "      <td>0</td>\n",
       "      <td>0</td>\n",
       "      <td>0</td>\n",
       "      <td>1</td>\n",
       "    </tr>\n",
       "  </tbody>\n",
       "</table>\n",
       "</div>"
      ],
      "text/plain": [
       "   Rich  Member  Alone  Late  BusinessClass\n",
       "0     1       1      0     0              1\n",
       "1     0       0      0     0              0\n",
       "2     0       0      0     0              0\n",
       "3     0       0      0     0              0\n",
       "4     1       0      0     0              1"
      ]
     },
     "execution_count": 2,
     "metadata": {},
     "output_type": "execute_result"
    }
   ],
   "source": [
    "passenger = pd.read_csv('passenger.csv')\n",
    "passenger.head()"
   ]
  },
  {
   "cell_type": "markdown",
   "metadata": {},
   "source": [
    "### 檔案說明：\n",
    "這邊自己亂填產生了**100筆乘客資料**，以下是各個變數說明：\n",
    "- Rich: 是不是很有錢，0:沒錢 1:有錢\n",
    "- Member: 是不是航空公司會員，0:不是會員 1:是會員\n",
    "- Alone: 是不是一個人旅行，0:不是一個人 1:一個人\n",
    "- Late: 是不是太晚報到，0:不會太晚 1:太晚報到\n",
    "- BusinessClass: 最後是否搭乘商務艙，0:經濟艙 1:商務艙"
   ]
  },
  {
   "cell_type": "code",
   "execution_count": 3,
   "metadata": {},
   "outputs": [
    {
     "data": {
      "text/plain": [
       "0    79\n",
       "1    21\n",
       "Name: BusinessClass, dtype: int64"
      ]
     },
     "execution_count": 3,
     "metadata": {},
     "output_type": "execute_result"
    }
   ],
   "source": [
    "passenger['BusinessClass'].value_counts()"
   ]
  },
  {
   "cell_type": "markdown",
   "metadata": {},
   "source": [
    "---\n",
    "## 5. Construct Decision Tree\n",
    "\n",
    "接下來利用Scikit-Learn產生決策樹來比較看看和自己設計的差異"
   ]
  },
  {
   "cell_type": "code",
   "execution_count": 4,
   "metadata": {},
   "outputs": [],
   "source": [
    "from sklearn.tree import DecisionTreeClassifier\n",
    "from sklearn.externals.six import StringIO   \n",
    "from sklearn.tree import export_graphviz\n",
    "import pydotplus"
   ]
  },
  {
   "cell_type": "code",
   "execution_count": 5,
   "metadata": {},
   "outputs": [
    {
     "data": {
      "text/plain": [
       "array([1, 0, 0, 0, 1, 0, 1, 1, 0, 1, 0, 1, 0, 1, 0, 0, 1, 0, 1, 0, 0, 0,\n",
       "       0, 0, 0, 0, 0, 1, 0, 1, 0, 0, 1, 0, 0, 0, 1, 0, 0, 0, 0, 0, 1, 0,\n",
       "       0, 1, 0, 0, 0, 1, 0, 0, 0, 0, 0, 1, 0, 0, 0, 0, 0, 0, 0, 0, 1, 0,\n",
       "       0, 0, 0, 0, 0, 0, 0, 0, 1, 0, 0, 1, 0, 0, 0, 0, 0, 0, 0, 0, 0, 0,\n",
       "       0, 0, 1, 0, 0, 0, 0, 0, 0, 0, 0, 0])"
      ]
     },
     "execution_count": 5,
     "metadata": {},
     "output_type": "execute_result"
    }
   ],
   "source": [
    "y = passenger['BusinessClass'].values\n",
    "passenger = passenger.drop('BusinessClass', 1)\n",
    "\n",
    "y"
   ]
  },
  {
   "cell_type": "code",
   "execution_count": 6,
   "metadata": {},
   "outputs": [
    {
     "data": {
      "text/plain": [
       "True"
      ]
     },
     "execution_count": 6,
     "metadata": {},
     "output_type": "execute_result"
    }
   ],
   "source": [
    "dtree = DecisionTreeClassifier(max_depth=4)\n",
    "dtree.fit(passenger ,y)\n",
    "\n",
    "dot_data = StringIO()\n",
    "export_graphviz(dtree, \n",
    "                out_file=dot_data,  \n",
    "                filled=True, \n",
    "                feature_names=list(passenger),\n",
    "                class_names=['Economic','Business'],\n",
    "                special_characters=True)\n",
    "\n",
    "graph = pydotplus.graph_from_dot_data(dot_data.getvalue())  \n",
    "graph.write_pdf(\"tree.pdf\")"
   ]
  },
  {
   "cell_type": "markdown",
   "metadata": {},
   "source": [
    "<img src=\"tree.png\">"
   ]
  },
  {
   "cell_type": "markdown",
   "metadata": {},
   "source": [
    "## 6. Compare the Rules\n",
    "從產生的決策樹來看可以發現他精準的將所有最後乘坐商務艙的旅客分出來了，gini值都非常低，\n",
    "\n",
    "不過有一個不同的地方是他第二步先從\"Alone\"下手，而不是我原本設計的\"Member\"。\n",
    "\n",
    "可能是這組資料的結構和設計真的太簡單，而且**設計時沒有例外，完全遵照自己的規則去填結果**，\n",
    "\n",
    "所以對於機器學習來說簡直是小兒科。\n",
    "\n",
    "---\n",
    "做完這個作業後真的能比較了解決策樹的產生方法與原理以及讚嘆機器學習的厲害，\n",
    "\n",
    "而且做起來也有趣的。"
   ]
  },
  {
   "cell_type": "code",
   "execution_count": null,
   "metadata": {},
   "outputs": [],
   "source": []
  }
 ],
 "metadata": {
  "kernelspec": {
   "display_name": "Python 3",
   "language": "python",
   "name": "python3"
  },
  "language_info": {
   "codemirror_mode": {
    "name": "ipython",
    "version": 3
   },
   "file_extension": ".py",
   "mimetype": "text/x-python",
   "name": "python",
   "nbconvert_exporter": "python",
   "pygments_lexer": "ipython3",
   "version": "3.6.5"
  }
 },
 "nbformat": 4,
 "nbformat_minor": 2
}
